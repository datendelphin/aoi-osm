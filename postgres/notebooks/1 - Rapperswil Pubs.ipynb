{
 "cells": [
  {
   "cell_type": "code",
   "execution_count": 1,
   "metadata": {},
   "outputs": [],
   "source": [
    "%matplotlib inline\n",
    "\n",
    "import os\n",
    "import json\n",
    "import psycopg2\n",
    "import pandas as pd\n",
    "import geopandas as gpd\n",
    "from geopandas import GeoSeries, GeoDataFrame\n",
    "import folium\n",
    "import fiona\n",
    "from pyproj import Proj, transform"
   ]
  },
  {
   "cell_type": "code",
   "execution_count": 2,
   "metadata": {},
   "outputs": [],
   "source": [
    "conn = psycopg2.connect(dbname=\"gis\", user=\"postgres\", password=\"\")"
   ]
  },
  {
   "cell_type": "code",
   "execution_count": 3,
   "metadata": {},
   "outputs": [],
   "source": [
    "rapperswil_polygon_query = \"SELECT way FROM planet_osm_polygon WHERE osm_id = -1683921\""
   ]
  },
  {
   "cell_type": "code",
   "execution_count": 4,
   "metadata": {},
   "outputs": [],
   "source": [
    "pubs_rapperswil = gpd.read_postgis(\n",
    "    \"SELECT * FROM planet_osm_point WHERE amenity = 'pub' AND st_within(way, ({}))\".format(rapperswil_polygon_query), \n",
    "    conn, geom_col='way', crs='epsg:3857')"
   ]
  },
  {
   "cell_type": "code",
   "execution_count": 5,
   "metadata": {},
   "outputs": [
    {
     "data": {
      "text/html": [
       "<div>\n",
       "<style scoped>\n",
       "    .dataframe tbody tr th:only-of-type {\n",
       "        vertical-align: middle;\n",
       "    }\n",
       "\n",
       "    .dataframe tbody tr th {\n",
       "        vertical-align: top;\n",
       "    }\n",
       "\n",
       "    .dataframe thead th {\n",
       "        text-align: right;\n",
       "    }\n",
       "</style>\n",
       "<table border=\"1\" class=\"dataframe\">\n",
       "  <thead>\n",
       "    <tr style=\"text-align: right;\">\n",
       "      <th></th>\n",
       "      <th>osm_id</th>\n",
       "      <th>access</th>\n",
       "      <th>addr:housename</th>\n",
       "      <th>addr:housenumber</th>\n",
       "      <th>addr:interpolation</th>\n",
       "      <th>admin_level</th>\n",
       "      <th>aerialway</th>\n",
       "      <th>aeroway</th>\n",
       "      <th>amenity</th>\n",
       "      <th>area</th>\n",
       "      <th>...</th>\n",
       "      <th>tourism</th>\n",
       "      <th>tower:type</th>\n",
       "      <th>tunnel</th>\n",
       "      <th>water</th>\n",
       "      <th>waterway</th>\n",
       "      <th>wetland</th>\n",
       "      <th>width</th>\n",
       "      <th>wood</th>\n",
       "      <th>z_order</th>\n",
       "      <th>way</th>\n",
       "    </tr>\n",
       "  </thead>\n",
       "  <tbody>\n",
       "    <tr>\n",
       "      <th>0</th>\n",
       "      <td>2045478751</td>\n",
       "      <td>None</td>\n",
       "      <td>None</td>\n",
       "      <td>1</td>\n",
       "      <td>None</td>\n",
       "      <td>None</td>\n",
       "      <td>None</td>\n",
       "      <td>None</td>\n",
       "      <td>pub</td>\n",
       "      <td>None</td>\n",
       "      <td>...</td>\n",
       "      <td>None</td>\n",
       "      <td>None</td>\n",
       "      <td>None</td>\n",
       "      <td>None</td>\n",
       "      <td>None</td>\n",
       "      <td>None</td>\n",
       "      <td>None</td>\n",
       "      <td>None</td>\n",
       "      <td>None</td>\n",
       "      <td>POINT (981440.51 5978942.61)</td>\n",
       "    </tr>\n",
       "    <tr>\n",
       "      <th>1</th>\n",
       "      <td>1355213714</td>\n",
       "      <td>None</td>\n",
       "      <td>None</td>\n",
       "      <td>9</td>\n",
       "      <td>None</td>\n",
       "      <td>None</td>\n",
       "      <td>None</td>\n",
       "      <td>None</td>\n",
       "      <td>pub</td>\n",
       "      <td>None</td>\n",
       "      <td>...</td>\n",
       "      <td>None</td>\n",
       "      <td>None</td>\n",
       "      <td>None</td>\n",
       "      <td>None</td>\n",
       "      <td>None</td>\n",
       "      <td>None</td>\n",
       "      <td>None</td>\n",
       "      <td>None</td>\n",
       "      <td>None</td>\n",
       "      <td>POINT (981344.77 5979063.34)</td>\n",
       "    </tr>\n",
       "    <tr>\n",
       "      <th>2</th>\n",
       "      <td>2045478750</td>\n",
       "      <td>None</td>\n",
       "      <td>None</td>\n",
       "      <td>None</td>\n",
       "      <td>None</td>\n",
       "      <td>None</td>\n",
       "      <td>None</td>\n",
       "      <td>None</td>\n",
       "      <td>pub</td>\n",
       "      <td>None</td>\n",
       "      <td>...</td>\n",
       "      <td>None</td>\n",
       "      <td>None</td>\n",
       "      <td>None</td>\n",
       "      <td>None</td>\n",
       "      <td>None</td>\n",
       "      <td>None</td>\n",
       "      <td>None</td>\n",
       "      <td>None</td>\n",
       "      <td>None</td>\n",
       "      <td>POINT (981499.6 5978969.41)</td>\n",
       "    </tr>\n",
       "    <tr>\n",
       "      <th>3</th>\n",
       "      <td>291417612</td>\n",
       "      <td>None</td>\n",
       "      <td>None</td>\n",
       "      <td>None</td>\n",
       "      <td>None</td>\n",
       "      <td>None</td>\n",
       "      <td>None</td>\n",
       "      <td>None</td>\n",
       "      <td>pub</td>\n",
       "      <td>None</td>\n",
       "      <td>...</td>\n",
       "      <td>None</td>\n",
       "      <td>None</td>\n",
       "      <td>None</td>\n",
       "      <td>None</td>\n",
       "      <td>None</td>\n",
       "      <td>None</td>\n",
       "      <td>None</td>\n",
       "      <td>None</td>\n",
       "      <td>None</td>\n",
       "      <td>POINT (985378.59 5978891.86)</td>\n",
       "    </tr>\n",
       "  </tbody>\n",
       "</table>\n",
       "<p>4 rows × 70 columns</p>\n",
       "</div>"
      ],
      "text/plain": [
       "       osm_id access addr:housename addr:housenumber addr:interpolation  \\\n",
       "0  2045478751   None           None                1               None   \n",
       "1  1355213714   None           None                9               None   \n",
       "2  2045478750   None           None             None               None   \n",
       "3   291417612   None           None             None               None   \n",
       "\n",
       "  admin_level aerialway aeroway amenity  area              ...               \\\n",
       "0        None      None    None     pub  None              ...                \n",
       "1        None      None    None     pub  None              ...                \n",
       "2        None      None    None     pub  None              ...                \n",
       "3        None      None    None     pub  None              ...                \n",
       "\n",
       "  tourism tower:type tunnel water waterway wetland width  wood z_order  \\\n",
       "0    None       None   None  None     None    None  None  None    None   \n",
       "1    None       None   None  None     None    None  None  None    None   \n",
       "2    None       None   None  None     None    None  None  None    None   \n",
       "3    None       None   None  None     None    None  None  None    None   \n",
       "\n",
       "                            way  \n",
       "0  POINT (981440.51 5978942.61)  \n",
       "1  POINT (981344.77 5979063.34)  \n",
       "2   POINT (981499.6 5978969.41)  \n",
       "3  POINT (985378.59 5978891.86)  \n",
       "\n",
       "[4 rows x 70 columns]"
      ]
     },
     "execution_count": 5,
     "metadata": {},
     "output_type": "execute_result"
    }
   ],
   "source": [
    "pubs_rapperswil"
   ]
  },
  {
   "cell_type": "code",
   "execution_count": 6,
   "metadata": {},
   "outputs": [
    {
     "data": {
      "text/html": [
       "<div style=\"width:100%;\"><div style=\"position:relative;width:100%;height:0;padding-bottom:60%;\"><iframe src=\"data:text/html;charset=utf-8;base64,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\" style=\"position:absolute;width:100%;height:100%;left:0;top:0;border:none !important;\" allowfullscreen webkitallowfullscreen mozallowfullscreen></iframe></div></div>"
      ],
      "text/plain": [
       "<folium.folium.Map at 0x7f552848f400>"
      ]
     },
     "execution_count": 6,
     "metadata": {},
     "output_type": "execute_result"
    }
   ],
   "source": [
    "m = folium.Map(location=[47.2271, 8.8245], zoom_start=15)\n",
    "inProj = Proj(init=pubs_rapperswil.crs)\n",
    "outProj = Proj(init='epsg:4326')\n",
    "\n",
    "for index, pub in pubs_rapperswil.iterrows():\n",
    "    x,y = pub['way'].x, pub['way'].y\n",
    "    x, y = transform(inProj, outProj, x, y)\n",
    "    folium.Marker([y, x], popup=pub['name']).add_to(m)\n",
    "    \n",
    "m"
   ]
  },
  {
   "cell_type": "code",
   "execution_count": 7,
   "metadata": {},
   "outputs": [
    {
     "data": {
      "text/html": [
       "<div>\n",
       "<style scoped>\n",
       "    .dataframe tbody tr th:only-of-type {\n",
       "        vertical-align: middle;\n",
       "    }\n",
       "\n",
       "    .dataframe tbody tr th {\n",
       "        vertical-align: top;\n",
       "    }\n",
       "\n",
       "    .dataframe thead th {\n",
       "        text-align: right;\n",
       "    }\n",
       "</style>\n",
       "<table border=\"1\" class=\"dataframe\">\n",
       "  <thead>\n",
       "    <tr style=\"text-align: right;\">\n",
       "      <th></th>\n",
       "      <th>geometry</th>\n",
       "    </tr>\n",
       "  </thead>\n",
       "  <tbody>\n",
       "    <tr>\n",
       "      <th>0</th>\n",
       "      <td>POLYGON ((981429.12 5978936.74, 981429.75 5978...</td>\n",
       "    </tr>\n",
       "    <tr>\n",
       "      <th>1</th>\n",
       "      <td>POLYGON ((981326.96 5979071.09, 981329.67 5979...</td>\n",
       "    </tr>\n",
       "    <tr>\n",
       "      <th>2</th>\n",
       "      <td>POLYGON ((981454.26 5978958.53, 981470.8100000...</td>\n",
       "    </tr>\n",
       "    <tr>\n",
       "      <th>3</th>\n",
       "      <td>POLYGON ((985368.0600000001 5978903.55, 985414...</td>\n",
       "    </tr>\n",
       "  </tbody>\n",
       "</table>\n",
       "</div>"
      ],
      "text/plain": [
       "                                            geometry\n",
       "0  POLYGON ((981429.12 5978936.74, 981429.75 5978...\n",
       "1  POLYGON ((981326.96 5979071.09, 981329.67 5979...\n",
       "2  POLYGON ((981454.26 5978958.53, 981470.8100000...\n",
       "3  POLYGON ((985368.0600000001 5978903.55, 985414..."
      ]
     },
     "execution_count": 7,
     "metadata": {},
     "output_type": "execute_result"
    }
   ],
   "source": [
    "rapperswil_pubs_polygons = gpd.read_postgis(\n",
    "    \"\"\"SELECT polygon.way AS geometry FROM planet_osm_polygon AS polygon\n",
    "        INNER JOIN planet_osm_point AS point\n",
    "            ON st_within(point.way, polygon.way)\n",
    "        WHERE point.amenity = 'pub'\n",
    "            AND st_within(point.way, ({}))\n",
    "            AND polygon.building = 'yes'\"\"\".format(rapperswil_polygon_query), \n",
    "    conn, geom_col='geometry')\n",
    "\n",
    "rapperswil_pubs_polygons"
   ]
  },
  {
   "cell_type": "code",
   "execution_count": 8,
   "metadata": {},
   "outputs": [],
   "source": [
    "rapperswil_pubs_polygons.crs = fiona.crs.from_epsg(3857)"
   ]
  },
  {
   "cell_type": "code",
   "execution_count": 9,
   "metadata": {},
   "outputs": [
    {
     "data": {
      "text/html": [
       "<div style=\"width:100%;\"><div style=\"position:relative;width:100%;height:0;padding-bottom:60%;\"><iframe src=\"data:text/html;charset=utf-8;base64,PCFET0NUWVBFIGh0bWw+CjxoZWFkPiAgICAKICAgIDxtZXRhIGh0dHAtZXF1aXY9ImNvbnRlbnQtdHlwZSIgY29udGVudD0idGV4dC9odG1sOyBjaGFyc2V0PVVURi04IiAvPgogICAgPHNjcmlwdD5MX1BSRUZFUl9DQU5WQVMgPSBmYWxzZTsgTF9OT19UT1VDSCA9IGZhbHNlOyBMX0RJU0FCTEVfM0QgPSBmYWxzZTs8L3NjcmlwdD4KICAgIDxzY3JpcHQgc3JjPSJodHRwczovL2Nkbi5qc2RlbGl2ci5uZXQvbnBtL2xlYWZsZXRAMS4yLjAvZGlzdC9sZWFmbGV0LmpzIj48L3NjcmlwdD4KICAgIDxzY3JpcHQgc3JjPSJodHRwczovL2FqYXguZ29vZ2xlYXBpcy5jb20vYWpheC9saWJzL2pxdWVyeS8xLjExLjEvanF1ZXJ5Lm1pbi5qcyI+PC9zY3JpcHQ+CiAgICA8c2NyaXB0IHNyYz0iaHR0cHM6Ly9tYXhjZG4uYm9vdHN0cmFwY2RuLmNvbS9ib290c3RyYXAvMy4yLjAvanMvYm9vdHN0cmFwLm1pbi5qcyI+PC9zY3JpcHQ+CiAgICA8c2NyaXB0IHNyYz0iaHR0cHM6Ly9jZG5qcy5jbG91ZGZsYXJlLmNvbS9hamF4L2xpYnMvTGVhZmxldC5hd2Vzb21lLW1hcmtlcnMvMi4wLjIvbGVhZmxldC5hd2Vzb21lLW1hcmtlcnMuanMiPjwvc2NyaXB0PgogICAgPGxpbmsgcmVsPSJzdHlsZXNoZWV0IiBocmVmPSJodHRwczovL2Nkbi5qc2RlbGl2ci5uZXQvbnBtL2xlYWZsZXRAMS4yLjAvZGlzdC9sZWFmbGV0LmNzcyIgLz4KICAgIDxsaW5rIHJlbD0ic3R5bGVzaGVldCIgaHJlZj0iaHR0cHM6Ly9tYXhjZG4uYm9vdHN0cmFwY2RuLmNvbS9ib290c3RyYXAvMy4yLjAvY3NzL2Jvb3RzdHJhcC5taW4uY3NzIiAvPgogICAgPGxpbmsgcmVsPSJzdHlsZXNoZWV0IiBocmVmPSJodHRwczovL21heGNkbi5ib290c3RyYXBjZG4uY29tL2Jvb3RzdHJhcC8zLjIuMC9jc3MvYm9vdHN0cmFwLXRoZW1lLm1pbi5jc3MiIC8+CiAgICA8bGluayByZWw9InN0eWxlc2hlZXQiIGhyZWY9Imh0dHBzOi8vbWF4Y2RuLmJvb3RzdHJhcGNkbi5jb20vZm9udC1hd2Vzb21lLzQuNi4zL2Nzcy9mb250LWF3ZXNvbWUubWluLmNzcyIgLz4KICAgIDxsaW5rIHJlbD0ic3R5bGVzaGVldCIgaHJlZj0iaHR0cHM6Ly9jZG5qcy5jbG91ZGZsYXJlLmNvbS9hamF4L2xpYnMvTGVhZmxldC5hd2Vzb21lLW1hcmtlcnMvMi4wLjIvbGVhZmxldC5hd2Vzb21lLW1hcmtlcnMuY3NzIiAvPgogICAgPGxpbmsgcmVsPSJzdHlsZXNoZWV0IiBocmVmPSJodHRwczovL3Jhd2dpdC5jb20vcHl0aG9uLXZpc3VhbGl6YXRpb24vZm9saXVtL21hc3Rlci9mb2xpdW0vdGVtcGxhdGVzL2xlYWZsZXQuYXdlc29tZS5yb3RhdGUuY3NzIiAvPgogICAgPHN0eWxlPmh0bWwsIGJvZHkge3dpZHRoOiAxMDAlO2hlaWdodDogMTAwJTttYXJnaW46IDA7cGFkZGluZzogMDt9PC9zdHlsZT4KICAgIDxzdHlsZT4jbWFwIHtwb3NpdGlvbjphYnNvbHV0ZTt0b3A6MDtib3R0b206MDtyaWdodDowO2xlZnQ6MDt9PC9zdHlsZT4KICAgIAogICAgICAgICAgICA8c3R5bGU+ICNtYXBfOTZmOTkzYzg2MWIxNDhlNWFmNDVkYTMwNGNmMWZjNjEgewogICAgICAgICAgICAgICAgcG9zaXRpb24gOiByZWxhdGl2ZTsKICAgICAgICAgICAgICAgIHdpZHRoIDogMTAwLjAlOwogICAgICAgICAgICAgICAgaGVpZ2h0OiAxMDAuMCU7CiAgICAgICAgICAgICAgICBsZWZ0OiAwLjAlOwogICAgICAgICAgICAgICAgdG9wOiAwLjAlOwogICAgICAgICAgICAgICAgfQogICAgICAgICAgICA8L3N0eWxlPgogICAgICAgIAo8L2hlYWQ+Cjxib2R5PiAgICAKICAgIAogICAgICAgICAgICA8ZGl2IGNsYXNzPSJmb2xpdW0tbWFwIiBpZD0ibWFwXzk2Zjk5M2M4NjFiMTQ4ZTVhZjQ1ZGEzMDRjZjFmYzYxIiA+PC9kaXY+CiAgICAgICAgCjwvYm9keT4KPHNjcmlwdD4gICAgCiAgICAKCiAgICAgICAgICAgIAogICAgICAgICAgICAgICAgdmFyIGJvdW5kcyA9IG51bGw7CiAgICAgICAgICAgIAoKICAgICAgICAgICAgdmFyIG1hcF85NmY5OTNjODYxYjE0OGU1YWY0NWRhMzA0Y2YxZmM2MSA9IEwubWFwKAogICAgICAgICAgICAgICAgICAgICAgICAgICAgICAgICAgJ21hcF85NmY5OTNjODYxYjE0OGU1YWY0NWRhMzA0Y2YxZmM2MScsCiAgICAgICAgICAgICAgICAgICAgICAgICAgICAgICAgICB7Y2VudGVyOiBbNDcuMjI2LDguODE4XSwKICAgICAgICAgICAgICAgICAgICAgICAgICAgICAgICAgIHpvb206IDE3LAogICAgICAgICAgICAgICAgICAgICAgICAgICAgICAgICAgbWF4Qm91bmRzOiBib3VuZHMsCiAgICAgICAgICAgICAgICAgICAgICAgICAgICAgICAgICBsYXllcnM6IFtdLAogICAgICAgICAgICAgICAgICAgICAgICAgICAgICAgICAgd29ybGRDb3B5SnVtcDogZmFsc2UsCiAgICAgICAgICAgICAgICAgICAgICAgICAgICAgICAgICBjcnM6IEwuQ1JTLkVQU0czODU3CiAgICAgICAgICAgICAgICAgICAgICAgICAgICAgICAgIH0pOwogICAgICAgICAgICAKICAgICAgICAKICAgIAogICAgICAgICAgICB2YXIgdGlsZV9sYXllcl8wMmU3YTExOWFjYjc0M2VhOTBkNzE0ZTA4NmZjM2M0MyA9IEwudGlsZUxheWVyKAogICAgICAgICAgICAgICAgJ2h0dHBzOi8ve3N9LnRpbGUub3BlbnN0cmVldG1hcC5vcmcve3p9L3t4fS97eX0ucG5nJywKICAgICAgICAgICAgICAgIHsKICAiYXR0cmlidXRpb24iOiBudWxsLAogICJkZXRlY3RSZXRpbmEiOiBmYWxzZSwKICAibWF4Wm9vbSI6IDE4LAogICJtaW5ab29tIjogMSwKICAibm9XcmFwIjogZmFsc2UsCiAgInN1YmRvbWFpbnMiOiAiYWJjIgp9CiAgICAgICAgICAgICAgICApLmFkZFRvKG1hcF85NmY5OTNjODYxYjE0OGU1YWY0NWRhMzA0Y2YxZmM2MSk7CiAgICAgICAgCiAgICAKCiAgICAgICAgICAgIAoKICAgICAgICAgICAgICAgIHZhciBnZW9fanNvbl8wZGE3ZjNmNzcxNjA0ZDJlOWFkNTA2ZjNhM2IzYjRkOCA9IEwuZ2VvSnNvbigKICAgICAgICAgICAgICAgICAgICB7ImJib3giOiBbOC44MTU0MTAwNjg4NjU0NiwgNDcuMjI1MDEyMTkzNzI5MzQsIDguODUyMTY0OTA4MjA5Nzk3LCA0Ny4yMjYyMDcxNzUwMjIyXSwgImZlYXR1cmVzIjogW3siYmJveCI6IFs4LjgxNjMyNzc4Nzc1OTcyLCA0Ny4yMjUzNjE3NTk2NTc5OCwgOC44MTY1Njg3MTU5MTg5MTksIDQ3LjIyNTUyNTM3NzY4MjgzNV0sICJnZW9tZXRyeSI6IHsiY29vcmRpbmF0ZXMiOiBbW1s4LjgxNjMyNzc4Nzc1OTcyLCA0Ny4yMjUzNjE3NTk2NTc5OF0sIFs4LjgxNjMzMzQ0NzE0NjAwOCwgNDcuMjI1NTI1Mzc3NjgyODM1XSwgWzguODE2NTUzNjI0MjIyMTQ3LCA0Ny4yMjU0OTQ2OTE3MTU5MV0sIFs4LjgxNjU2ODcxNTkxODkxOSwgNDcuMjI1NDE0MTYzODQ1NDRdLCBbOC44MTYzMjc3ODc3NTk3MiwgNDcuMjI1MzYxNzU5NjU3OThdXV0sICJ0eXBlIjogIlBvbHlnb24ifSwgImlkIjogIjAiLCAicHJvcGVydGllcyI6IHsiaGlnaGxpZ2h0Ijoge30sICJzdHlsZSI6IHt9fSwgInR5cGUiOiAiRmVhdHVyZSJ9LCB7ImJib3giOiBbOC44MTU0MTAwNjg4NjU0NiwgNDcuMjI2MDc0OTc2ODEzOTgsIDguODE1Njg3NTU4NDU2NzI3LCA0Ny4yMjYyMDcxNzUwMjIyXSwgImdlb21ldHJ5IjogeyJjb29yZGluYXRlcyI6IFtbWzguODE1NDEwMDY4ODY1NDYsIDQ3LjIyNjE4MTM2OTg2MDI0XSwgWzguODE1NDM0NDEzMjA5NjYyLCA0Ny4yMjYxODQxNzYwOTU5Nl0sIFs4LjgxNTUxMDU5MDM0NTc1NiwgNDcuMjI2MTkyOTYwODMyOV0sIFs4LjgxNTU3NDkwOTcyMDA5OCwgNDcuMjI2MjAwNDAzNDU2MV0sIFs4LjgxNTYzMzkyOTAzNDI2NSwgNDcuMjI2MjA3MTc1MDIyMl0sIFs4LjgxNTY4NzU1ODQ1NjcyNywgNDcuMjI2MTE1MzAxMjY3NzZdLCBbOC44MTU0MzEzNTg5Mzc2OTYsIDQ3LjIyNjA3NDk3NjgxMzk4XSwgWzguODE1NDEwMDY4ODY1NDYsIDQ3LjIyNjE4MTM2OTg2MDI0XV1dLCAidHlwZSI6ICJQb2x5Z29uIn0sICJpZCI6ICIxIiwgInByb3BlcnRpZXMiOiB7ImhpZ2hsaWdodCI6IHt9LCAic3R5bGUiOiB7fX0sICJ0eXBlIjogIkZlYXR1cmUifSwgeyJiYm94IjogWzguODE2NTUzNjI0MjIyMTQ3LCA0Ny4yMjU0MTQxNjM4NDU0NCwgOC44MTc0NTY3OTA0MDg4LCA0Ny4yMjU4NjY1ODI0NzYxM10sICJnZW9tZXRyeSI6IHsiY29vcmRpbmF0ZXMiOiBbW1s4LjgxNjU1MzYyNDIyMjE0NywgNDcuMjI1NDk0NjkxNzE1OTFdLCBbOC44MTY3MDIyOTU0MDE2NjksIDQ3LjIyNTU4NjY4ODU1NzYwNV0sIFs4LjgxNjc5MjU3NjA4NzcyMywgNDcuMjI1NzUyODA3MTE4NjQ2XSwgWzguODE2OTIyMzgyNjQ2Mjc3LCA0Ny4yMjU3Mzg3NzU4MjQ0MDRdLCBbOC44MTcwMDg5ODAyMzk2NjcsIDQ3LjIyNTcwNjgwODg2MTldLCBbOC44MTcxMjU2NzEzOTUwNzQsIDQ3LjIyNTc3ODM2ODQ2Njg4NF0sIFs4LjgxNzEzMTMzMDc4MTM2MywgNDcuMjI1ODY2NTgyNDc2MTNdLCBbOC44MTcxNjczNTMyMjQyNTYsIDQ3LjIyNTg2NDk5NjMzMzQyXSwgWzguODE3Mjc0MDczMDgwMDA5LCA0Ny4yMjU4NjAzNTk5MTU5OF0sIFs4LjgxNzQyNDgxMDM4NDY4NSwgNDcuMjI1ODUzNzcxMzIyMDddLCBbOC44MTc0NTY3OTA0MDg4LCA0Ny4yMjU2NzM1NjA3NjAyM10sIFs4LjgxNzI3ODExNTQ5ODc5LCA0Ny4yMjU2NTk1OTA0NTA3M10sIFs4LjgxNzI4MDAwMTk2MDg4NSwgNDcuMjI1Njc5OTY2MzU5NDJdLCBbOC44MTcyMDY2MDk2MDIxNzIsIDQ3LjIyNTY4MTMwODQ4NDg3XSwgWzguODE3MTM1MTAzNzA1NTU3LCA0Ny4yMjU2Mzc4MTE0MDE5NDVdLCBbOC44MTcxNTc1NjE1ODc2NiwgNDcuMjI1NjE2MDkzMzQ5OTg0XSwgWzguODE2ODA1NzgxMzIyMzk3LCA0Ny4yMjU0NzE2OTI0ODA1M10sIFs4LjgxNjU2ODcxNTkxODkxOSwgNDcuMjI1NDE0MTYzODQ1NDRdLCBbOC44MTY1NTM2MjQyMjIxNDcsIDQ3LjIyNTQ5NDY5MTcxNTkxXV1dLCAidHlwZSI6ICJQb2x5Z29uIn0sICJpZCI6ICIyIiwgInByb3BlcnRpZXMiOiB7ImhpZ2hsaWdodCI6IHt9LCAic3R5bGUiOiB7fX0sICJ0eXBlIjogIkZlYXR1cmUifSwgeyJiYm94IjogWzguODUxNzExODg3ODEyMDE4LCA0Ny4yMjUwMTIxOTM3MjkzNCwgOC44NTIxNjQ5MDgyMDk3OTcsIDQ3LjIyNTIwOTE4MzI1OTUzXSwgImdlb21ldHJ5IjogeyJjb29yZGluYXRlcyI6IFtbWzguODUxNzExODg3ODEyMDE4LCA0Ny4yMjUxNTkyODAxMjc4Nl0sIFs4Ljg1MjEyNjQ2MDMxNTYzOCwgNDcuMjI1MjA5MTgzMjU5NTNdLCBbOC44NTIxNjQ5MDgyMDk3OTcsIDQ3LjIyNTA2MjA5Njk5OTQ2Nl0sIFs4Ljg1MTc1MDI0NTg3NDY0OCwgNDcuMjI1MDEyMTkzNzI5MzRdLCBbOC44NTE3MTE4ODc4MTIwMTgsIDQ3LjIyNTE1OTI4MDEyNzg2XV1dLCAidHlwZSI6ICJQb2x5Z29uIn0sICJpZCI6ICIzIiwgInByb3BlcnRpZXMiOiB7ImhpZ2hsaWdodCI6IHt9LCAic3R5bGUiOiB7fX0sICJ0eXBlIjogIkZlYXR1cmUifV0sICJ0eXBlIjogIkZlYXR1cmVDb2xsZWN0aW9uIn0KICAgICAgICAgICAgICAgICAgICAKICAgICAgICAgICAgICAgICAgICApLmFkZFRvKG1hcF85NmY5OTNjODYxYjE0OGU1YWY0NWRhMzA0Y2YxZmM2MSk7CiAgICAgICAgICAgICAgICBnZW9fanNvbl8wZGE3ZjNmNzcxNjA0ZDJlOWFkNTA2ZjNhM2IzYjRkOC5zZXRTdHlsZShmdW5jdGlvbihmZWF0dXJlKSB7cmV0dXJuIGZlYXR1cmUucHJvcGVydGllcy5zdHlsZTt9KTsKCiAgICAgICAgICAgIAo8L3NjcmlwdD4=\" style=\"position:absolute;width:100%;height:100%;left:0;top:0;border:none !important;\" allowfullscreen webkitallowfullscreen mozallowfullscreen></iframe></div></div>"
      ],
      "text/plain": [
       "<folium.folium.Map at 0x7f5528476eb8>"
      ]
     },
     "execution_count": 9,
     "metadata": {},
     "output_type": "execute_result"
    }
   ],
   "source": [
    "m = folium.Map(location=[47.226, 8.818], zoom_start=17)\n",
    "\n",
    "folium.GeoJson(rapperswil_pubs_polygons).add_to(m)\n",
    "\n",
    "m"
   ]
  },
  {
   "cell_type": "code",
   "execution_count": 10,
   "metadata": {},
   "outputs": [
    {
     "data": {
      "text/html": [
       "<div style=\"width:100%;\"><div style=\"position:relative;width:100%;height:0;padding-bottom:60%;\"><iframe src=\"data:text/html;charset=utf-8;base64,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\" style=\"position:absolute;width:100%;height:100%;left:0;top:0;border:none !important;\" allowfullscreen webkitallowfullscreen mozallowfullscreen></iframe></div></div>"
      ],
      "text/plain": [
       "<folium.folium.Map at 0x7f55284126d8>"
      ]
     },
     "execution_count": 10,
     "metadata": {},
     "output_type": "execute_result"
    }
   ],
   "source": [
    "rapperswil_poi_polygons = gpd.read_postgis(\n",
    "    \"\"\"SELECT polygon.way AS geometry FROM planet_osm_polygon AS polygon\n",
    "        INNER JOIN planet_osm_point AS point\n",
    "            ON st_within(point.way, polygon.way)\n",
    "        WHERE point.amenity IN ('pub', 'restaurant')\n",
    "            AND st_within(point.way, ({}))\n",
    "            AND polygon.building = 'yes'\"\"\".format(rapperswil_polygon_query), \n",
    "    conn, geom_col='geometry')\n",
    "\n",
    "rapperswil_poi_polygons.crs = fiona.crs.from_epsg(3857)\n",
    "\n",
    "m = folium.Map(location=[47.226, 8.818], zoom_start=17)\n",
    "\n",
    "folium.GeoJson(rapperswil_poi_polygons).add_to(m)\n",
    "\n",
    "m"
   ]
  },
  {
   "cell_type": "code",
   "execution_count": null,
   "metadata": {},
   "outputs": [],
   "source": []
  }
 ],
 "metadata": {
  "kernelspec": {
   "display_name": "Python 3",
   "language": "python",
   "name": "python3"
  },
  "language_info": {
   "codemirror_mode": {
    "name": "ipython",
    "version": 3
   },
   "file_extension": ".py",
   "mimetype": "text/x-python",
   "name": "python",
   "nbconvert_exporter": "python",
   "pygments_lexer": "ipython3",
   "version": "3.6.4"
  }
 },
 "nbformat": 4,
 "nbformat_minor": 2
}
