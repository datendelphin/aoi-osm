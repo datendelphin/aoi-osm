{
 "cells": [
  {
   "cell_type": "code",
   "execution_count": 1,
   "metadata": {},
   "outputs": [],
   "source": [
    "%matplotlib inline\n",
    "\n",
    "import os\n",
    "import json\n",
    "import psycopg2\n",
    "import pandas as pd\n",
    "import geopandas as gpd\n",
    "from geopandas import GeoSeries, GeoDataFrame\n",
    "import folium\n",
    "import fiona\n",
    "from pyproj import Proj, transform"
   ]
  },
  {
   "cell_type": "code",
   "execution_count": 2,
   "metadata": {},
   "outputs": [],
   "source": [
    "conn = psycopg2.connect(dbname=\"gis\", user=\"postgres\", password=\"\")"
   ]
  },
  {
   "cell_type": "code",
   "execution_count": 3,
   "metadata": {},
   "outputs": [],
   "source": [
    "rapperswil_polygon_query = \"SELECT way FROM planet_osm_polygon WHERE osm_id = -1683921\""
   ]
  },
  {
   "cell_type": "code",
   "execution_count": 4,
   "metadata": {},
   "outputs": [],
   "source": [
    "pubs_rapperswil = gpd.read_postgis(\n",
    "    \"SELECT * FROM planet_osm_point WHERE amenity = 'pub' AND st_within(way, ({}))\".format(rapperswil_polygon_query), \n",
    "    conn, geom_col='way', crs='epsg:3857')"
   ]
  },
  {
   "cell_type": "code",
   "execution_count": 5,
   "metadata": {},
   "outputs": [
    {
     "data": {
      "text/html": [
       "<div>\n",
       "<style scoped>\n",
       "    .dataframe tbody tr th:only-of-type {\n",
       "        vertical-align: middle;\n",
       "    }\n",
       "\n",
       "    .dataframe tbody tr th {\n",
       "        vertical-align: top;\n",
       "    }\n",
       "\n",
       "    .dataframe thead th {\n",
       "        text-align: right;\n",
       "    }\n",
       "</style>\n",
       "<table border=\"1\" class=\"dataframe\">\n",
       "  <thead>\n",
       "    <tr style=\"text-align: right;\">\n",
       "      <th></th>\n",
       "      <th>osm_id</th>\n",
       "      <th>access</th>\n",
       "      <th>addr:housename</th>\n",
       "      <th>addr:housenumber</th>\n",
       "      <th>addr:interpolation</th>\n",
       "      <th>admin_level</th>\n",
       "      <th>aerialway</th>\n",
       "      <th>aeroway</th>\n",
       "      <th>amenity</th>\n",
       "      <th>area</th>\n",
       "      <th>...</th>\n",
       "      <th>tourism</th>\n",
       "      <th>tower:type</th>\n",
       "      <th>tunnel</th>\n",
       "      <th>water</th>\n",
       "      <th>waterway</th>\n",
       "      <th>wetland</th>\n",
       "      <th>width</th>\n",
       "      <th>wood</th>\n",
       "      <th>z_order</th>\n",
       "      <th>way</th>\n",
       "    </tr>\n",
       "  </thead>\n",
       "  <tbody>\n",
       "    <tr>\n",
       "      <th>0</th>\n",
       "      <td>2045478751</td>\n",
       "      <td>None</td>\n",
       "      <td>None</td>\n",
       "      <td>1</td>\n",
       "      <td>None</td>\n",
       "      <td>None</td>\n",
       "      <td>None</td>\n",
       "      <td>None</td>\n",
       "      <td>pub</td>\n",
       "      <td>None</td>\n",
       "      <td>...</td>\n",
       "      <td>None</td>\n",
       "      <td>None</td>\n",
       "      <td>None</td>\n",
       "      <td>None</td>\n",
       "      <td>None</td>\n",
       "      <td>None</td>\n",
       "      <td>None</td>\n",
       "      <td>None</td>\n",
       "      <td>None</td>\n",
       "      <td>POINT (981440.51 5978942.61)</td>\n",
       "    </tr>\n",
       "    <tr>\n",
       "      <th>1</th>\n",
       "      <td>1355213714</td>\n",
       "      <td>None</td>\n",
       "      <td>None</td>\n",
       "      <td>9</td>\n",
       "      <td>None</td>\n",
       "      <td>None</td>\n",
       "      <td>None</td>\n",
       "      <td>None</td>\n",
       "      <td>pub</td>\n",
       "      <td>None</td>\n",
       "      <td>...</td>\n",
       "      <td>None</td>\n",
       "      <td>None</td>\n",
       "      <td>None</td>\n",
       "      <td>None</td>\n",
       "      <td>None</td>\n",
       "      <td>None</td>\n",
       "      <td>None</td>\n",
       "      <td>None</td>\n",
       "      <td>None</td>\n",
       "      <td>POINT (981344.77 5979063.34)</td>\n",
       "    </tr>\n",
       "    <tr>\n",
       "      <th>2</th>\n",
       "      <td>2045478750</td>\n",
       "      <td>None</td>\n",
       "      <td>None</td>\n",
       "      <td>None</td>\n",
       "      <td>None</td>\n",
       "      <td>None</td>\n",
       "      <td>None</td>\n",
       "      <td>None</td>\n",
       "      <td>pub</td>\n",
       "      <td>None</td>\n",
       "      <td>...</td>\n",
       "      <td>None</td>\n",
       "      <td>None</td>\n",
       "      <td>None</td>\n",
       "      <td>None</td>\n",
       "      <td>None</td>\n",
       "      <td>None</td>\n",
       "      <td>None</td>\n",
       "      <td>None</td>\n",
       "      <td>None</td>\n",
       "      <td>POINT (981499.6 5978969.41)</td>\n",
       "    </tr>\n",
       "    <tr>\n",
       "      <th>3</th>\n",
       "      <td>291417612</td>\n",
       "      <td>None</td>\n",
       "      <td>None</td>\n",
       "      <td>None</td>\n",
       "      <td>None</td>\n",
       "      <td>None</td>\n",
       "      <td>None</td>\n",
       "      <td>None</td>\n",
       "      <td>pub</td>\n",
       "      <td>None</td>\n",
       "      <td>...</td>\n",
       "      <td>None</td>\n",
       "      <td>None</td>\n",
       "      <td>None</td>\n",
       "      <td>None</td>\n",
       "      <td>None</td>\n",
       "      <td>None</td>\n",
       "      <td>None</td>\n",
       "      <td>None</td>\n",
       "      <td>None</td>\n",
       "      <td>POINT (985378.59 5978891.86)</td>\n",
       "    </tr>\n",
       "  </tbody>\n",
       "</table>\n",
       "<p>4 rows × 70 columns</p>\n",
       "</div>"
      ],
      "text/plain": [
       "       osm_id access addr:housename addr:housenumber addr:interpolation  \\\n",
       "0  2045478751   None           None                1               None   \n",
       "1  1355213714   None           None                9               None   \n",
       "2  2045478750   None           None             None               None   \n",
       "3   291417612   None           None             None               None   \n",
       "\n",
       "  admin_level aerialway aeroway amenity  area              ...               \\\n",
       "0        None      None    None     pub  None              ...                \n",
       "1        None      None    None     pub  None              ...                \n",
       "2        None      None    None     pub  None              ...                \n",
       "3        None      None    None     pub  None              ...                \n",
       "\n",
       "  tourism tower:type tunnel water waterway wetland width  wood z_order  \\\n",
       "0    None       None   None  None     None    None  None  None    None   \n",
       "1    None       None   None  None     None    None  None  None    None   \n",
       "2    None       None   None  None     None    None  None  None    None   \n",
       "3    None       None   None  None     None    None  None  None    None   \n",
       "\n",
       "                            way  \n",
       "0  POINT (981440.51 5978942.61)  \n",
       "1  POINT (981344.77 5979063.34)  \n",
       "2   POINT (981499.6 5978969.41)  \n",
       "3  POINT (985378.59 5978891.86)  \n",
       "\n",
       "[4 rows x 70 columns]"
      ]
     },
     "execution_count": 5,
     "metadata": {},
     "output_type": "execute_result"
    }
   ],
   "source": [
    "pubs_rapperswil"
   ]
  },
  {
   "cell_type": "code",
   "execution_count": 6,
   "metadata": {},
   "outputs": [
    {
     "data": {
      "text/html": [
       "<div style=\"width:100%;\"><div style=\"position:relative;width:100%;height:0;padding-bottom:60%;\"><iframe src=\"data:text/html;charset=utf-8;base64,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\" style=\"position:absolute;width:100%;height:100%;left:0;top:0;border:none !important;\" allowfullscreen webkitallowfullscreen mozallowfullscreen></iframe></div></div>"
      ],
      "text/plain": [
       "<folium.folium.Map at 0x7f9b73c520b8>"
      ]
     },
     "execution_count": 6,
     "metadata": {},
     "output_type": "execute_result"
    }
   ],
   "source": [
    "m = folium.Map(location=[47.2271, 8.8245], zoom_start=15)\n",
    "inProj = Proj(init=pubs_rapperswil.crs)\n",
    "outProj = Proj(init='epsg:4326')\n",
    "\n",
    "for index, pub in pubs_rapperswil.iterrows():\n",
    "    x,y = pub['way'].x, pub['way'].y\n",
    "    x, y = transform(inProj, outProj, x, y)\n",
    "    folium.Marker([y, x], popup=pub['name']).add_to(m)\n",
    "\n",
    "m"
   ]
  },
  {
   "cell_type": "code",
   "execution_count": null,
   "metadata": {},
   "outputs": [],
   "source": [
    "rapperswil_pubs_polygons = gpd.read_postgis(\n",
    "    \"\"\"SELECT polygon.way AS geometry FROM planet_osm_polygon AS polygon\n",
    "        INNER JOIN planet_osm_point AS point\n",
    "            ON st_within(point.way, polygon.way)\n",
    "        WHERE point.amenity = 'pub'\n",
    "            AND st_within(point.way, ({}))\n",
    "            AND polygon.building = 'yes'\"\"\".format(rapperswil_polygon_query), \n",
    "    conn, geom_col='geometry')\n",
    "\n",
    "rapperswil_pubs_polygons"
   ]
  },
  {
   "cell_type": "code",
   "execution_count": null,
   "metadata": {},
   "outputs": [],
   "source": [
    "rapperswil_pubs_polygons.crs = fiona.crs.from_epsg(3857)"
   ]
  },
  {
   "cell_type": "code",
   "execution_count": null,
   "metadata": {},
   "outputs": [],
   "source": [
    "m = folium.Map(location=[47.226, 8.818], zoom_start=17)\n",
    "\n",
    "folium.GeoJson(rapperswil_pubs_polygons).add_to(m)\n",
    "\n",
    "m"
   ]
  },
  {
   "cell_type": "code",
   "execution_count": null,
   "metadata": {},
   "outputs": [],
   "source": [
    "rapperswil_poi_polygons = gpd.read_postgis(\n",
    "    \"\"\"SELECT polygon.way AS geometry FROM planet_osm_polygon AS polygon\n",
    "        INNER JOIN planet_osm_point AS point\n",
    "            ON st_within(point.way, polygon.way)\n",
    "        WHERE point.amenity IN ('pub', 'restaurant')\n",
    "            AND st_within(point.way, ({}))\n",
    "            AND polygon.building = 'yes'\"\"\".format(rapperswil_polygon_query), \n",
    "    conn, geom_col='geometry')\n",
    "\n",
    "rapperswil_poi_polygons.crs = fiona.crs.from_epsg(3857)\n",
    "\n",
    "m = folium.Map(location=[47.226, 8.818], zoom_start=17)\n",
    "\n",
    "folium.GeoJson(rapperswil_poi_polygons).add_to(m)\n",
    "\n",
    "m"
   ]
  },
  {
   "cell_type": "code",
   "execution_count": null,
   "metadata": {},
   "outputs": [],
   "source": []
  }
 ],
 "metadata": {
  "kernelspec": {
   "display_name": "Python 3",
   "language": "python",
   "name": "python3"
  },
  "language_info": {
   "codemirror_mode": {
    "name": "ipython",
    "version": 3
   },
   "file_extension": ".py",
   "mimetype": "text/x-python",
   "name": "python",
   "nbconvert_exporter": "python",
   "pygments_lexer": "ipython3",
   "version": "3.6.4"
  }
 },
 "nbformat": 4,
 "nbformat_minor": 2
}
