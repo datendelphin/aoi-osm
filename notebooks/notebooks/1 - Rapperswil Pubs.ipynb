{
 "cells": [
  {
   "cell_type": "code",
   "execution_count": 3,
   "metadata": {},
   "outputs": [],
   "source": [
    "import os\n",
    "import json\n",
    "import psycopg2\n",
    "import pandas as pd\n",
    "import geopandas as gpd\n",
    "from geopandas import GeoSeries, GeoDataFrame\n",
    "import folium\n",
    "import fiona\n",
    "from pyproj import Proj, transform"
   ]
  },
  {
   "cell_type": "code",
   "execution_count": 4,
   "metadata": {},
   "outputs": [],
   "source": [
    "conn = psycopg2.connect(dbname=\"gis\", user=\"postgres\", password=\"\")"
   ]
  },
  {
   "cell_type": "code",
   "execution_count": 5,
   "metadata": {},
   "outputs": [],
   "source": [
    "rapperswil_polygon_query = \"SELECT way FROM planet_osm_polygon WHERE osm_id = -1683921\""
   ]
  },
  {
   "cell_type": "code",
   "execution_count": 6,
   "metadata": {},
   "outputs": [],
   "source": [
    "pubs_rapperswil = gpd.read_postgis(\n",
    "    \"SELECT * FROM planet_osm_point WHERE amenity = 'pub' AND st_within(way, ({}))\".format(rapperswil_polygon_query), \n",
    "    conn, geom_col='way', crs='epsg:3857')"
   ]
  },
  {
   "cell_type": "code",
   "execution_count": 7,
   "metadata": {},
   "outputs": [
    {
     "data": {
      "text/html": [
       "<div>\n",
       "<style scoped>\n",
       "    .dataframe tbody tr th:only-of-type {\n",
       "        vertical-align: middle;\n",
       "    }\n",
       "\n",
       "    .dataframe tbody tr th {\n",
       "        vertical-align: top;\n",
       "    }\n",
       "\n",
       "    .dataframe thead th {\n",
       "        text-align: right;\n",
       "    }\n",
       "</style>\n",
       "<table border=\"1\" class=\"dataframe\">\n",
       "  <thead>\n",
       "    <tr style=\"text-align: right;\">\n",
       "      <th></th>\n",
       "      <th>osm_id</th>\n",
       "      <th>access</th>\n",
       "      <th>addr:housename</th>\n",
       "      <th>addr:housenumber</th>\n",
       "      <th>addr:interpolation</th>\n",
       "      <th>admin_level</th>\n",
       "      <th>aerialway</th>\n",
       "      <th>aeroway</th>\n",
       "      <th>amenity</th>\n",
       "      <th>area</th>\n",
       "      <th>...</th>\n",
       "      <th>tourism</th>\n",
       "      <th>tower:type</th>\n",
       "      <th>tunnel</th>\n",
       "      <th>water</th>\n",
       "      <th>waterway</th>\n",
       "      <th>wetland</th>\n",
       "      <th>width</th>\n",
       "      <th>wood</th>\n",
       "      <th>z_order</th>\n",
       "      <th>way</th>\n",
       "    </tr>\n",
       "  </thead>\n",
       "  <tbody>\n",
       "    <tr>\n",
       "      <th>0</th>\n",
       "      <td>2045478751</td>\n",
       "      <td>None</td>\n",
       "      <td>None</td>\n",
       "      <td>1</td>\n",
       "      <td>None</td>\n",
       "      <td>None</td>\n",
       "      <td>None</td>\n",
       "      <td>None</td>\n",
       "      <td>pub</td>\n",
       "      <td>None</td>\n",
       "      <td>...</td>\n",
       "      <td>None</td>\n",
       "      <td>None</td>\n",
       "      <td>None</td>\n",
       "      <td>None</td>\n",
       "      <td>None</td>\n",
       "      <td>None</td>\n",
       "      <td>None</td>\n",
       "      <td>None</td>\n",
       "      <td>None</td>\n",
       "      <td>POINT (981440.51 5978942.61)</td>\n",
       "    </tr>\n",
       "    <tr>\n",
       "      <th>1</th>\n",
       "      <td>1355213714</td>\n",
       "      <td>None</td>\n",
       "      <td>None</td>\n",
       "      <td>9</td>\n",
       "      <td>None</td>\n",
       "      <td>None</td>\n",
       "      <td>None</td>\n",
       "      <td>None</td>\n",
       "      <td>pub</td>\n",
       "      <td>None</td>\n",
       "      <td>...</td>\n",
       "      <td>None</td>\n",
       "      <td>None</td>\n",
       "      <td>None</td>\n",
       "      <td>None</td>\n",
       "      <td>None</td>\n",
       "      <td>None</td>\n",
       "      <td>None</td>\n",
       "      <td>None</td>\n",
       "      <td>None</td>\n",
       "      <td>POINT (981344.77 5979063.34)</td>\n",
       "    </tr>\n",
       "    <tr>\n",
       "      <th>2</th>\n",
       "      <td>2045478750</td>\n",
       "      <td>None</td>\n",
       "      <td>None</td>\n",
       "      <td>None</td>\n",
       "      <td>None</td>\n",
       "      <td>None</td>\n",
       "      <td>None</td>\n",
       "      <td>None</td>\n",
       "      <td>pub</td>\n",
       "      <td>None</td>\n",
       "      <td>...</td>\n",
       "      <td>None</td>\n",
       "      <td>None</td>\n",
       "      <td>None</td>\n",
       "      <td>None</td>\n",
       "      <td>None</td>\n",
       "      <td>None</td>\n",
       "      <td>None</td>\n",
       "      <td>None</td>\n",
       "      <td>None</td>\n",
       "      <td>POINT (981499.6 5978969.41)</td>\n",
       "    </tr>\n",
       "    <tr>\n",
       "      <th>3</th>\n",
       "      <td>291417612</td>\n",
       "      <td>None</td>\n",
       "      <td>None</td>\n",
       "      <td>None</td>\n",
       "      <td>None</td>\n",
       "      <td>None</td>\n",
       "      <td>None</td>\n",
       "      <td>None</td>\n",
       "      <td>pub</td>\n",
       "      <td>None</td>\n",
       "      <td>...</td>\n",
       "      <td>None</td>\n",
       "      <td>None</td>\n",
       "      <td>None</td>\n",
       "      <td>None</td>\n",
       "      <td>None</td>\n",
       "      <td>None</td>\n",
       "      <td>None</td>\n",
       "      <td>None</td>\n",
       "      <td>None</td>\n",
       "      <td>POINT (985378.59 5978891.86)</td>\n",
       "    </tr>\n",
       "  </tbody>\n",
       "</table>\n",
       "<p>4 rows × 70 columns</p>\n",
       "</div>"
      ],
      "text/plain": [
       "       osm_id access addr:housename addr:housenumber addr:interpolation  \\\n",
       "0  2045478751   None           None                1               None   \n",
       "1  1355213714   None           None                9               None   \n",
       "2  2045478750   None           None             None               None   \n",
       "3   291417612   None           None             None               None   \n",
       "\n",
       "  admin_level aerialway aeroway amenity  area              ...               \\\n",
       "0        None      None    None     pub  None              ...                \n",
       "1        None      None    None     pub  None              ...                \n",
       "2        None      None    None     pub  None              ...                \n",
       "3        None      None    None     pub  None              ...                \n",
       "\n",
       "  tourism tower:type tunnel water waterway wetland width  wood z_order  \\\n",
       "0    None       None   None  None     None    None  None  None    None   \n",
       "1    None       None   None  None     None    None  None  None    None   \n",
       "2    None       None   None  None     None    None  None  None    None   \n",
       "3    None       None   None  None     None    None  None  None    None   \n",
       "\n",
       "                            way  \n",
       "0  POINT (981440.51 5978942.61)  \n",
       "1  POINT (981344.77 5979063.34)  \n",
       "2   POINT (981499.6 5978969.41)  \n",
       "3  POINT (985378.59 5978891.86)  \n",
       "\n",
       "[4 rows x 70 columns]"
      ]
     },
     "execution_count": 7,
     "metadata": {},
     "output_type": "execute_result"
    }
   ],
   "source": [
    "pubs_rapperswil"
   ]
  },
  {
   "cell_type": "code",
   "execution_count": 8,
   "metadata": {},
   "outputs": [
    {
     "data": {
      "text/html": [
       "<div style=\"width:100%;\"><div style=\"position:relative;width:100%;height:0;padding-bottom:60%;\"><iframe src=\"data:text/html;charset=utf-8;base64,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\" style=\"position:absolute;width:100%;height:100%;left:0;top:0;border:none !important;\" allowfullscreen webkitallowfullscreen mozallowfullscreen></iframe></div></div>"
      ],
      "text/plain": [
       "<folium.folium.Map at 0x7f20b4497550>"
      ]
     },
     "execution_count": 8,
     "metadata": {},
     "output_type": "execute_result"
    }
   ],
   "source": [
    "m = folium.Map(location=[47.2271, 8.8245], zoom_start=15)\n",
    "inProj = Proj(init=pubs_rapperswil.crs)\n",
    "outProj = Proj(init='epsg:4326')\n",
    "\n",
    "for index, pub in pubs_rapperswil.iterrows():\n",
    "    x,y = pub['way'].x, pub['way'].y\n",
    "    x, y = transform(inProj, outProj, x, y)\n",
    "    folium.Marker([y, x], popup=pub['name']).add_to(m)\n",
    "\n",
    "m"
   ]
  },
  {
   "cell_type": "code",
   "execution_count": 9,
   "metadata": {},
   "outputs": [
    {
     "data": {
      "text/html": [
       "<div>\n",
       "<style scoped>\n",
       "    .dataframe tbody tr th:only-of-type {\n",
       "        vertical-align: middle;\n",
       "    }\n",
       "\n",
       "    .dataframe tbody tr th {\n",
       "        vertical-align: top;\n",
       "    }\n",
       "\n",
       "    .dataframe thead th {\n",
       "        text-align: right;\n",
       "    }\n",
       "</style>\n",
       "<table border=\"1\" class=\"dataframe\">\n",
       "  <thead>\n",
       "    <tr style=\"text-align: right;\">\n",
       "      <th></th>\n",
       "      <th>geometry</th>\n",
       "    </tr>\n",
       "  </thead>\n",
       "  <tbody>\n",
       "    <tr>\n",
       "      <th>0</th>\n",
       "      <td>POLYGON ((981429.12 5978936.74, 981429.75 5978...</td>\n",
       "    </tr>\n",
       "    <tr>\n",
       "      <th>1</th>\n",
       "      <td>POLYGON ((981326.96 5979071.09, 981329.67 5979...</td>\n",
       "    </tr>\n",
       "    <tr>\n",
       "      <th>2</th>\n",
       "      <td>POLYGON ((981454.26 5978958.53, 981470.8100000...</td>\n",
       "    </tr>\n",
       "    <tr>\n",
       "      <th>3</th>\n",
       "      <td>POLYGON ((985368.0600000001 5978903.55, 985414...</td>\n",
       "    </tr>\n",
       "  </tbody>\n",
       "</table>\n",
       "</div>"
      ],
      "text/plain": [
       "                                            geometry\n",
       "0  POLYGON ((981429.12 5978936.74, 981429.75 5978...\n",
       "1  POLYGON ((981326.96 5979071.09, 981329.67 5979...\n",
       "2  POLYGON ((981454.26 5978958.53, 981470.8100000...\n",
       "3  POLYGON ((985368.0600000001 5978903.55, 985414..."
      ]
     },
     "execution_count": 9,
     "metadata": {},
     "output_type": "execute_result"
    }
   ],
   "source": [
    "rapperswil_pubs_polygons = gpd.read_postgis(\n",
    "    \"\"\"SELECT polygon.way AS geometry FROM planet_osm_polygon AS polygon\n",
    "        INNER JOIN planet_osm_point AS point\n",
    "            ON st_within(point.way, polygon.way)\n",
    "        WHERE point.amenity = 'pub'\n",
    "            AND st_within(point.way, ({}))\n",
    "            AND polygon.building = 'yes'\"\"\".format(rapperswil_polygon_query), \n",
    "    conn, geom_col='geometry')\n",
    "\n",
    "rapperswil_pubs_polygons"
   ]
  },
  {
   "cell_type": "code",
   "execution_count": 8,
   "metadata": {},
   "outputs": [],
   "source": [
    "rapperswil_pubs_polygons.crs = fiona.crs.from_epsg(3857)"
   ]
  },
  {
   "cell_type": "code",
   "execution_count": 9,
   "metadata": {},
   "outputs": [
    {
     "data": {
      "text/html": [
       "<div style=\"width:100%;\"><div style=\"position:relative;width:100%;height:0;padding-bottom:60%;\"><iframe src=\"data:text/html;charset=utf-8;base64,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\" style=\"position:absolute;width:100%;height:100%;left:0;top:0;border:none !important;\" allowfullscreen webkitallowfullscreen mozallowfullscreen></iframe></div></div>"
      ],
      "text/plain": [
       "<folium.folium.Map at 0x7f9b73ca58d0>"
      ]
     },
     "execution_count": 9,
     "metadata": {},
     "output_type": "execute_result"
    }
   ],
   "source": [
    "m = folium.Map(location=[47.226, 8.818], zoom_start=17)\n",
    "\n",
    "folium.GeoJson(rapperswil_pubs_polygons).add_to(m)\n",
    "\n",
    "m"
   ]
  },
  {
   "cell_type": "code",
   "execution_count": 2,
   "metadata": {},
   "outputs": [
    {
     "ename": "NameError",
     "evalue": "name 'gpd' is not defined",
     "output_type": "error",
     "traceback": [
      "\u001b[0;31m---------------------------------------------------------------------------\u001b[0m",
      "\u001b[0;31mNameError\u001b[0m                                 Traceback (most recent call last)",
      "\u001b[0;32m<ipython-input-2-96c0d017bb09>\u001b[0m in \u001b[0;36m<module>\u001b[0;34m()\u001b[0m\n\u001b[0;32m----> 1\u001b[0;31m rapperswil_poi_polygons = gpd.read_postgis(\n\u001b[0m\u001b[1;32m      2\u001b[0m     \"\"\"SELECT polygon.way AS geometry,\n\u001b[1;32m      3\u001b[0m               \u001b[0mST_ClusterDBSCAN\u001b[0m\u001b[0;34m(\u001b[0m\u001b[0mpolygon\u001b[0m\u001b[0;34m.\u001b[0m\u001b[0mway\u001b[0m\u001b[0;34m,\u001b[0m \u001b[0meps\u001b[0m \u001b[0;34m:\u001b[0m\u001b[0;34m=\u001b[0m \u001b[0;36m50\u001b[0m\u001b[0;34m,\u001b[0m \u001b[0mminpoints\u001b[0m \u001b[0;34m:\u001b[0m\u001b[0;34m=\u001b[0m \u001b[0;36m2\u001b[0m\u001b[0;34m)\u001b[0m \u001b[0mover\u001b[0m \u001b[0;34m(\u001b[0m\u001b[0;34m)\u001b[0m \u001b[0mAS\u001b[0m \u001b[0mcid\u001b[0m\u001b[0;34m\u001b[0m\u001b[0m\n\u001b[1;32m      4\u001b[0m         \u001b[0mFROM\u001b[0m \u001b[0mplanet_osm_polygon\u001b[0m \u001b[0mAS\u001b[0m \u001b[0mpolygon\u001b[0m\u001b[0;34m\u001b[0m\u001b[0m\n\u001b[1;32m      5\u001b[0m         \u001b[0mINNER\u001b[0m \u001b[0mJOIN\u001b[0m \u001b[0mplanet_osm_point\u001b[0m \u001b[0mAS\u001b[0m \u001b[0mpoint\u001b[0m\u001b[0;34m\u001b[0m\u001b[0m\n",
      "\u001b[0;31mNameError\u001b[0m: name 'gpd' is not defined"
     ]
    }
   ],
   "source": [
    "rapperswil_poi_polygons = gpd.read_postgis(\n",
    "    \"\"\"SELECT polygon.way AS geometry FROM planet_osm_polygon AS polygon\n",
    "        INNER JOIN planet_osm_point AS point\n",
    "            ON st_within(point.way, polygon.way)\n",
    "        WHERE point.amenity IN ('pub', 'restaurant')\n",
    "            AND st_within(point.way, ({}))\n",
    "            AND polygon.building = 'yes'\"\"\".format(rapperswil_polygon_query), \n",
    "    conn, geom_col='geometry')\n",
    "\n",
    "rapperswil_poi_polygons.crs = fiona.crs.from_epsg(3857)\n",
    "\n",
    "m = folium.Map(location=[47.226, 8.818], zoom_start=17)\n",
    "\n",
    "folium.GeoJson(rapperswil_poi_polygons).add_to(m)\n",
    "\n",
    "m"
   ]
  },
  {
   "cell_type": "code",
   "execution_count": 12,
   "metadata": {},
   "outputs": [],
   "source": [
    "\n"
   ]
  },
  {
   "cell_type": "code",
   "execution_count": null,
   "metadata": {},
   "outputs": [],
   "source": []
  }
 ],
 "metadata": {
  "kernelspec": {
   "display_name": "Python 3",
   "language": "python",
   "name": "python3"
  },
  "language_info": {
   "codemirror_mode": {
    "name": "ipython",
    "version": 3
   },
   "file_extension": ".py",
   "mimetype": "text/x-python",
   "name": "python",
   "nbconvert_exporter": "python",
   "pygments_lexer": "ipython3",
   "version": "3.6.4"
  }
 },
 "nbformat": 4,
 "nbformat_minor": 2
}
