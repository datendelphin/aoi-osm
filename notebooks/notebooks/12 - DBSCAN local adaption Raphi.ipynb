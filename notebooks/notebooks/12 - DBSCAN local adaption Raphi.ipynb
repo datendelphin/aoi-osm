{
 "cells": [
  {
   "cell_type": "markdown",
   "metadata": {},
   "source": [
    "# Prerequisites\n",
    "\n",
    "* Setup Web App\n",
    "* Configure database inside docker-compose.yml with env variables"
   ]
  },
  {
   "cell_type": "code",
   "execution_count": null,
   "metadata": {},
   "outputs": [],
   "source": [
    "import geopandas as gpd\n",
    "import psycopg2\n",
    "import folium\n",
    "import folium.plugins\n",
    "import fiona\n",
    "import osmnx as ox\n",
    "import networkx as nx\n",
    "import operator"
   ]
  },
  {
   "cell_type": "code",
   "execution_count": null,
   "metadata": {},
   "outputs": [],
   "source": [
    "import matplotlib.cm as cmx\n",
    "import matplotlib.colors as colors\n",
    "\n",
    "\n",
    "def rgb(minimum, maximum, value):\n",
    "    minimum, maximum = float(minimum), float(maximum)\n",
    "    ratio = 2 * (value-minimum) / (maximum - minimum)\n",
    "    b = int(max(0, 255*(1 - ratio)))\n",
    "    r = int(max(0, 255*(ratio - 1)))\n",
    "    g = 255 - b - r\n",
    "    return r, g, b\n",
    "\n",
    "\n",
    "def style_function(feature, n_colors):\n",
    "    cid = feature['properties']['cid']\n",
    "    return {\n",
    "        'fillOpacity': 0.5,\n",
    "        'weight': 0,\n",
    "        'fillColor': '#red' if cid is None else \"rgb{}\".format(rgb(0, n_colors, cid))\n",
    "    }\n",
    "\n",
    "def init_style_function(n_colors):\n",
    "    return lambda feature: style_function(feature, n_colors)"
   ]
  },
  {
   "cell_type": "code",
   "execution_count": null,
   "metadata": {},
   "outputs": [],
   "source": [
    "ox.utils.config(cache_folder='/data/osmnx_cache', use_cache=True)\n",
    "\n",
    "def extended_hulls_query(aois_query):\n",
    "    aois = gpd.read_postgis(aois_query, conn, geom_col='geometry')\n",
    "    aois.crs = fiona.crs.from_epsg(3857)\n",
    "    aois = aois.to_crs(fiona.crs.from_epsg(4326))\n",
    "    central_nodes = []\n",
    "\n",
    "    for aoi in aois.geometry:\n",
    "        aoi_graph = ox.graph_from_polygon(aoi.buffer(0.001), network_type='all')\n",
    "        closeness_centrality = nx.closeness_centrality(aoi_graph)\n",
    "        sorted_nodes = sorted(closeness_centrality.items(), key=operator.itemgetter(1), reverse=True)\n",
    "        central_nodes += [node[0] for node in sorted_nodes[:len(sorted_nodes) // 10]]\n",
    "\n",
    "    central_nodes_ids = ', '.join([f'{key}' for key in central_nodes])\n",
    "\n",
    "    return \"\"\"\n",
    "    WITH hulls AS ({hulls_query}),\n",
    "    intersecting_lines AS (\n",
    "        SELECT hulls.cid, ST_Intersection(way, ST_Buffer(hulls.geometry, 50)) AS geometry FROM planet_osm_line, hulls\n",
    "        WHERE osm_id = ANY(\n",
    "          SELECT id FROM planet_osm_ways\n",
    "          WHERE nodes && ARRAY[{central_nodes_ids}]::bigint[]\n",
    "        )\n",
    "        AND ST_DWithin(planet_osm_line.way, hulls.geometry, 50)\n",
    "    )\n",
    "\n",
    "    SELECT 1 AS color, ST_ConcaveHull(ST_Union(geometry), 0.99) AS geometry FROM (\n",
    "      SELECT cid, geometry FROM hulls\n",
    "      UNION\n",
    "      SELECT cid, geometry FROM intersecting_lines\n",
    "    ) AS tmp\n",
    "    GROUP BY cid\n",
    "    \"\"\".format(hulls_query=aois_query, central_nodes_ids=central_nodes_ids)\n"
   ]
  },
  {
   "cell_type": "code",
   "execution_count": null,
   "metadata": {},
   "outputs": [],
   "source": [
    "points_coordinates = {\n",
    "\"Zürich\": (47.3737, 8.5388),\n",
    "\"Rapperswil\": (47.2269, 8.8187),\n",
    "\"Bern\": (46.94813, 7.44656),\n",
    "\"Stäfa\": (47.240647, 8.723481),\n",
    "\"Winterthur\": (47.4995, 8.7258),\n",
    "\"Hombrechtikon\": (47.2518, 8.7684),\n",
    "\"Basel\": (47.5573, 7.5884),\n",
    "\"Genf\": (46.2029, 6.1472),\n",
    "\"Rüti\": (47.2582, 8.8504),\n",
    "}\n",
    "\n",
    "point_queries = {}\n",
    "for name, coordinates in points_coordinates.items():\n",
    "    point_queries[name] = \"ST_Transform((ST_SetSRid(ST_MakePoint({}, {}), 4326)), 3857)\".format(coordinates[1], coordinates[0])"
   ]
  },
  {
   "cell_type": "markdown",
   "metadata": {},
   "source": [
    "# Select POIs and draw hulls"
   ]
  },
  {
   "cell_type": "code",
   "execution_count": null,
   "metadata": {},
   "outputs": [],
   "source": [
    "current_point = \"Rapperswil\"\n",
    "eps = 35\n",
    "minpoints = 3\n",
    "\n",
    "aois_query = \"\"\"\n",
    "WITH hulls AS (\n",
    "  SELECT hull FROM preclusters WHERE ST_Intersects(hull, {point})\n",
    "),\n",
    "clusters AS (\n",
    "  SELECT geometry,\n",
    "       ST_ClusterDBSCAN(geometry, eps := {eps}, minpoints := {minpoints}) over () AS cid\n",
    "  FROM pois, hulls\n",
    "  WHERE ST_Within(geometry, hulls.hull)\n",
    ")\n",
    "SELECT * FROM clusters WHERE cid IS NOT NULL\n",
    "UNION ALL\n",
    "SELECT ST_ConvexHull(ST_Union(geometry)), cid FROM clusters WHERE cid IS NOT NULL GROUP BY cid\n",
    "\"\"\".format(point=point_queries[current_point], eps=eps, minpoints=minpoints)\n",
    "\n",
    "with psycopg2.connect(\"\") as conn:\n",
    "    aois = gpd.read_postgis(aois_query, conn, geom_col='geometry')\n",
    "    aois.crs = fiona.crs.from_epsg(3857)\n",
    "    \n",
    "n_clusters = len(aois.groupby('cid').cid.nunique())\n",
    "\n",
    "\n",
    "m = folium.Map(location=points_coordinates[current_point], zoom_start=15, tiles=\"cartodbpositron\")\n",
    "\n",
    "folium.plugins.Fullscreen().add_to(m)\n",
    "folium.GeoJson(aois, style_function=init_style_function(n_clusters)).add_to(m)\n",
    "\n",
    "m"
   ]
  },
  {
   "cell_type": "markdown",
   "metadata": {},
   "source": [
    "# Do the same but extend with network centrality"
   ]
  },
  {
   "cell_type": "code",
   "execution_count": null,
   "metadata": {},
   "outputs": [],
   "source": [
    "current_point = \"Rapperswil\"\n",
    "eps = 35\n",
    "minpoints = 3\n",
    "\n",
    "aois_query = \"\"\"\n",
    "WITH hulls AS (\n",
    "  SELECT hull FROM preclusters WHERE ST_Intersects(hull, {point})\n",
    "),\n",
    "clusters AS (\n",
    "  SELECT geometry,\n",
    "       ST_ClusterDBSCAN(geometry, eps := {eps}, minpoints := {minpoints}) over () AS cid\n",
    "  FROM pois, hulls\n",
    "  WHERE ST_Within(geometry, hulls.hull)\n",
    ")\n",
    "SELECT * FROM clusters WHERE cid IS NOT NULL\n",
    "UNION ALL\n",
    "SELECT ST_ConvexHull(ST_Union(geometry)), cid FROM clusters WHERE cid IS NOT NULL GROUP BY cid\n",
    "\"\"\".format(point=point_queries[current_point], eps=eps, minpoints=minpoints)\n",
    "\n",
    "with psycopg2.connect(\"\") as conn:\n",
    "    extended_aois = gpd.read_postgis(extended_hulls_query(aois_query), conn, geom_col='geometry')\n",
    "    extended_aois.crs = fiona.crs.from_epsg(3857)\n",
    "\n",
    "m = folium.Map(location=points_coordinates[current_point], zoom_start=15, tiles=\"cartodbpositron\")\n",
    "\n",
    "folium.plugins.Fullscreen().add_to(m)\n",
    "folium.GeoJson(extended_aois).add_to(m)\n",
    "\n",
    "m"
   ]
  },
  {
   "cell_type": "code",
   "execution_count": null,
   "metadata": {},
   "outputs": [],
   "source": []
  }
 ],
 "metadata": {
  "kernelspec": {
   "display_name": "Python 3",
   "language": "python",
   "name": "python3"
  },
  "language_info": {
   "codemirror_mode": {
    "name": "ipython",
    "version": 3
   },
   "file_extension": ".py",
   "mimetype": "text/x-python",
   "name": "python",
   "nbconvert_exporter": "python",
   "pygments_lexer": "ipython3",
   "version": "3.6.4"
  }
 },
 "nbformat": 4,
 "nbformat_minor": 2
}
